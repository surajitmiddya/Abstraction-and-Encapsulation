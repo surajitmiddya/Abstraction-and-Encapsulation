{
 "cells": [
  {
   "cell_type": "markdown",
   "id": "4fe7986f-3681-46c9-b32a-a753c6aadc18",
   "metadata": {},
   "source": [
    "# Q1. What is Abstraction in OOps? Explain with an example."
   ]
  },
  {
   "cell_type": "markdown",
   "id": "1931b5b3-23a8-416b-8343-e85c93305a28",
   "metadata": {},
   "source": [
    "Abstraction is a fundamental concept in Object-Oriented Programming (OOP) that allows us to focus on the essential features of an object, while hiding unnecessary details. It involves creating a simplified representation of an object or system that only exposes the necessary details to the user, while keeping everything else hidden from view.\n",
    "\n",
    "In Python, abstraction can be achieved through the use of abstract classes and abstract methods. An abstract class is a class that cannot be instantiated and is meant to be subclassed by other classes. It defines the basic structure and behavior that subclasses should follow, but does not implement all the methods itself. Instead, it leaves some methods to be implemented by the subclasses."
   ]
  },
  {
   "cell_type": "code",
   "execution_count": 5,
   "id": "c5624f78-9ae5-464a-825f-986c76a3b27f",
   "metadata": {},
   "outputs": [
    {
     "name": "stdout",
     "output_type": "stream",
     "text": [
      "Dog is running\n",
      "Cat is jumping\n"
     ]
    }
   ],
   "source": [
    "from abc import ABC, abstractmethod\n",
    "\n",
    "class Animal(ABC):\n",
    "    @abstractmethod\n",
    "    def move(self):\n",
    "        pass\n",
    "\n",
    "class Dog(Animal):\n",
    "    def move(self):\n",
    "        print(\"Dog is running\")\n",
    "\n",
    "class Cat(Animal):\n",
    "    def move(self):\n",
    "        print(\"Cat is jumping\")\n",
    "\n",
    "dog = Dog()\n",
    "dog.move()  # Output: Dog is running\n",
    "\n",
    "cat = Cat()\n",
    "cat.move()  # Output: Cat is jumping\n",
    "\n",
    "# In the example above, we have an abstract class called Animal that defines an abstract method called move(). This method does not have any implementation, and its purpose is to be defined by the subclasses.\n",
    "# We then define two subclasses of Animal, Dog and Cat, that inherit from the abstract class and provide their own implementation of the move() method. Since we have defined the abstract method in the Animal class, \n",
    "#we are sure that all the subclasses will have a move() method, which ensures the consistency of the object's behavior."
   ]
  },
  {
   "cell_type": "markdown",
   "id": "9804536e-feb6-4513-8c69-f32012580e5c",
   "metadata": {},
   "source": [
    "# Q2. Differentiate between Abstraction and Encapsulation. Explain with an example."
   ]
  },
  {
   "cell_type": "markdown",
   "id": "4f2aeaa6-fea6-4f0d-8612-d5d345c562e4",
   "metadata": {},
   "source": [
    "* Abstraction refers to the process of focusing on the essential features of an object or system while ignoring the non-essential details. It allows you to represent complex systems or concepts in a simplified way that is easy to understand. In object-oriented programming, abstraction is achieved through the use of abstract classes and interfaces. An abstract class is a class that cannot be instantiated and contains one or more abstract methods, while an interface is a blueprint of methods that a class must implement.\n",
    "\n",
    "* On the other hand, Encapsulation refers to the practice of hiding the internal details of an object and providing a public interface to interact with it. Encapsulation enables you to protect the data of an object from external manipulation, ensuring that the object is used only in the way it was intended to be used. Encapsulation is achieved through the use of access modifiers such as private, public, and protected.\n",
    "\n",
    "Here's an example to illustrate the difference between Abstraction and Encapsulation:\n",
    "\n",
    "Suppose we are designing a car class in object-oriented programming. The car has various properties such as make, model, year, speed, and color, and it can perform actions such as accelerating, braking, and turning.\n",
    "\n",
    "Abstraction:\n",
    "To achieve abstraction, we can create an abstract class called \"Vehicle\" that contains the essential features of all vehicles, such as a method to start the engine, a method to stop the engine, and a property to represent the current speed. We can then create a concrete class called \"Car\" that inherits from the \"Vehicle\" class and adds its specific properties and methods, such as make, model, year, speed, and color. By doing so, we can represent the complex concept of a car in a simplified way, focusing only on its essential features.\n",
    "\n",
    "Encapsulation:\n",
    "To achieve encapsulation, we can use access modifiers such as private, public, and protected to hide the internal details of the car and provide a public interface to interact with it. For example, we can make the properties make, model, year, and color private, so they cannot be accessed directly from outside the class. We can then provide public methods to set and get these properties, ensuring that the car's data is accessed and modified only in the way it was intended to be used. For example, we can provide a public method called \"SetMake\" to set the make property and a public method called \"GetMake\" to get the make property. By doing so, we can protect the data of the car from external manipulation and ensure that the car is used only in the way it was intended to be used."
   ]
  },
  {
   "cell_type": "markdown",
   "id": "3ea290a6-1476-471c-a138-87fe403c1ab4",
   "metadata": {},
   "source": [
    "# Q3. What is abc module in python? Why is it used?\n"
   ]
  },
  {
   "cell_type": "markdown",
   "id": "e37ee853-3bf8-480e-9549-3ca799fa60ff",
   "metadata": {},
   "source": [
    "The abc module in Python stands for \"Abstract Base Classes\". It is a built-in module that provides a way to define abstract classes in Python.\n",
    "\n",
    "An abstract class is a class that cannot be instantiated, but serves as a base class for other classes. It contains one or more abstract methods, which are methods that have no implementation in the abstract class but must be implemented in the derived classes. The purpose of an abstract class is to provide a blueprint for other classes to follow.\n",
    "\n",
    "The abc module in Python provides a way to define abstract classes and abstract methods. It includes the ABCMeta metaclass, which is used to create abstract base classes, and the abstractmethod decorator, which is used to define abstract methods.\n",
    "\n",
    "Here's an example of how the abc module can be used in Python:"
   ]
  },
  {
   "cell_type": "code",
   "execution_count": 6,
   "id": "fd2a23b4-0a54-4391-ad82-88c405a56a3e",
   "metadata": {},
   "outputs": [
    {
     "name": "stdout",
     "output_type": "stream",
     "text": [
      "50\n",
      "153.86\n"
     ]
    }
   ],
   "source": [
    "from abc import ABC, abstractmethod\n",
    "\n",
    "class Shape(ABC):      # abstract base class\n",
    "    @abstractmethod\n",
    "    def area(self):\n",
    "        pass\n",
    "\n",
    "class Rectangle(Shape):    # concrete subclass\n",
    "    def __init__(self, length, width):\n",
    "        self.length = length\n",
    "        self.width = width\n",
    "\n",
    "    def area(self):\n",
    "        return self.length * self.width\n",
    "\n",
    "class Circle(Shape):    # concrete subclass\n",
    "    def __init__(self, radius):\n",
    "        self.radius = radius\n",
    "\n",
    "    def area(self):\n",
    "        return 3.14 * (self.radius ** 2)\n",
    "\n",
    "r = Rectangle(5, 10)\n",
    "print(r.area())   # Output: 50\n",
    "\n",
    "c = Circle(7)\n",
    "print(c.area())   # Output: 153.86"
   ]
  },
  {
   "cell_type": "markdown",
   "id": "c5441ed4-57c5-44dd-abe1-2bfe838732ca",
   "metadata": {},
   "source": [
    "# Q4. How can we achieve data abstraction?\n"
   ]
  },
  {
   "cell_type": "markdown",
   "id": "3bd03704-66e7-46bf-bac7-7505d6851f11",
   "metadata": {},
   "source": [
    "Data abstraction is a fundamental concept in object-oriented programming that enables us to represent complex systems or concepts in a simplified way by focusing on their essential features while hiding their non-essential details. Here are some ways to achieve data abstraction:\n",
    "\n",
    "Using Abstract Classes: Abstract classes are classes that cannot be instantiated and contain one or more abstract methods. Abstract methods are methods that have no implementation but must be implemented by any subclass of the abstract class. By defining an abstract class with abstract methods, we can provide a high-level interface to the class while leaving the implementation details to its subclasses.\n",
    "\n",
    "Using Interfaces: An interface is a collection of abstract methods that defines a contract that any class implementing the interface must adhere to. By defining an interface, we can specify a set of methods that any class must implement to be considered compatible with the interface. Interfaces are often used in Python to achieve polymorphism, where objects of different classes can be treated as if they were of the same type.\n",
    "\n",
    "Using Encapsulation: Encapsulation is the practice of hiding the internal details of an object and providing a public interface to interact with it. By encapsulating the data of an object, we can protect it from external manipulation and ensure that it is used only in the way it was intended to be used. Encapsulation is achieved through the use of access modifiers such as private, public, and protected.\n",
    "\n",
    "Using Properties: Properties are a way to define the getter and setter methods for an attribute of a class. By using properties, we can hide the internal details of an attribute and provide a simplified interface for accessing and modifying it.\n",
    "\n",
    "By using these techniques, we can achieve data abstraction in Python and create programs that are easy to understand, maintain, and extend."
   ]
  },
  {
   "cell_type": "markdown",
   "id": "3bd78163-6b39-4e33-8fd3-4acdae2b252e",
   "metadata": {},
   "source": [
    "# Q5. Can we create an instance of an abstract class? Explain your answer."
   ]
  },
  {
   "cell_type": "markdown",
   "id": "9fb4ec20-d5ac-44fb-9ab0-3ade90c4c50d",
   "metadata": {},
   "source": [
    "No, we cannot create an instance of an abstract class in Python or any other programming language that supports the concept of abstract classes.\n",
    "\n",
    "In Python, an abstract class is defined using the abc module, and it is created by inheriting from the ABC (Abstract Base Class) class and defining one or more abstract methods using the @abstractmethod decorator. Here's an example:"
   ]
  },
  {
   "cell_type": "code",
   "execution_count": 1,
   "id": "c15d7a15-c24e-4892-bf63-8e148409b6ed",
   "metadata": {},
   "outputs": [],
   "source": [
    "import abc\n",
    "\n",
    "class Animal(abc.ABC):\n",
    "    @abc.abstractmethod\n",
    "    def make_sound(self):\n",
    "        pass\n"
   ]
  },
  {
   "cell_type": "markdown",
   "id": "54e786c7-0251-4de5-a30c-0c0e7896469e",
   "metadata": {},
   "source": [
    "In this example, Animal is an abstract class that defines an abstract method make_sound(). Since the method is abstract, it does not have an implementation.\n",
    "\n",
    "Now, if we try to create an instance of Animal like this:"
   ]
  },
  {
   "cell_type": "code",
   "execution_count": 2,
   "id": "bb045139-4e87-4bd6-bca3-4b1db6bfaf14",
   "metadata": {},
   "outputs": [
    {
     "ename": "TypeError",
     "evalue": "Can't instantiate abstract class Animal with abstract method make_sound",
     "output_type": "error",
     "traceback": [
      "\u001b[0;31m---------------------------------------------------------------------------\u001b[0m",
      "\u001b[0;31mTypeError\u001b[0m                                 Traceback (most recent call last)",
      "Cell \u001b[0;32mIn[2], line 1\u001b[0m\n\u001b[0;32m----> 1\u001b[0m animal \u001b[38;5;241m=\u001b[39m \u001b[43mAnimal\u001b[49m\u001b[43m(\u001b[49m\u001b[43m)\u001b[49m\n",
      "\u001b[0;31mTypeError\u001b[0m: Can't instantiate abstract class Animal with abstract method make_sound"
     ]
    }
   ],
   "source": [
    "animal = Animal()"
   ]
  },
  {
   "cell_type": "markdown",
   "id": "0f58b1ba-9174-4132-8557-4575ee94dfc4",
   "metadata": {},
   "source": [
    "This error message tells us that we cannot create an instance of an abstract class that has abstract methods because the class is incomplete and does not provide an implementation for the abstract methods. We can only create instances of concrete subclasses that inherit from the abstract class and provide an implementation for the abstract methods."
   ]
  }
 ],
 "metadata": {
  "kernelspec": {
   "display_name": "Python 3 (ipykernel)",
   "language": "python",
   "name": "python3"
  },
  "language_info": {
   "codemirror_mode": {
    "name": "ipython",
    "version": 3
   },
   "file_extension": ".py",
   "mimetype": "text/x-python",
   "name": "python",
   "nbconvert_exporter": "python",
   "pygments_lexer": "ipython3",
   "version": "3.10.8"
  }
 },
 "nbformat": 4,
 "nbformat_minor": 5
}
